{
 "cells": [
  {
   "cell_type": "code",
   "execution_count": 1,
   "id": "1ea72fc9-6c74-430f-8b85-9d27a923621e",
   "metadata": {},
   "outputs": [],
   "source": [
    "#Import Libraries\n",
    "import pandas as pd\n",
    "from xgboost import XGBClassifier\n",
    "from sklearn.preprocessing import OneHotEncoder, LabelEncoder\n",
    "from sklearn.metrics import accuracy_score, classification_report\n",
    "from sklearn.model_selection import train_test_split, cross_val_score\n",
    "import numpy as np\n"
   ]
  },
  {
   "cell_type": "code",
   "execution_count": 2,
   "id": "b865de2b-2318-4d89-bb40-efcec820cfbb",
   "metadata": {},
   "outputs": [
    {
     "name": "stdout",
     "output_type": "stream",
     "text": [
      "        Age  Gender      Height            Status\n",
      "0         0    male   44.591973           stunted\n",
      "1         0    male   56.705203              tall\n",
      "2         0    male   46.863358            normal\n",
      "3         0    male   47.508026            normal\n",
      "4         0    male   42.743494  severely stunted\n",
      "...     ...     ...         ...               ...\n",
      "120994   60  female  100.600000            normal\n",
      "120995   60  female   98.300000           stunted\n",
      "120996   60  female  121.300000            normal\n",
      "120997   60  female  112.200000            normal\n",
      "120998   60  female  109.800000            normal\n",
      "\n",
      "[120999 rows x 4 columns]\n"
     ]
    }
   ],
   "source": [
    "#Load and process data\n",
    "df = pd.read_csv('data_tinggi_balita.csv')\n",
    "df = df.rename(columns={'Status Gizi': 'Status', 'Jenis Kelamin': 'Gender', 'Umur (bulan)': 'Age', 'Tinggi Badan (cm)': 'Height'})\n",
    "df['Gender'] = df['Gender'].replace('perempuan', 'female')\n",
    "df['Gender'] = df['Gender'].replace('laki-laki', 'male')\n",
    "df['Status'] = df['Status'].replace('tinggi', 'tall')\n",
    "print(df)"
   ]
  },
  {
   "cell_type": "code",
   "execution_count": 3,
   "id": "7bb48d5c-5a4a-4984-9a81-047387c75fb9",
   "metadata": {},
   "outputs": [],
   "source": [
    "#Data preprocessing\n",
    "df['Gender'] = df['Gender'].astype(str)\n",
    "df['Status'] = df['Status'].astype(str)\n",
    "\n",
    "X = df.drop('Status', axis=1)\n",
    "y = df['Status']\n",
    "X_train, X_test, y_train, y_test = train_test_split(X, y, test_size=0.2, random_state=42)\n",
    "\n",
    "# One-hot encode the 'Gender' column\n",
    "encoder = OneHotEncoder(sparse_output=False, drop='first')\n",
    "X_train_encoded = X_train.copy()\n",
    "X_test_encoded = X_test.copy()\n",
    "\n",
    "X_train_encoded[['Gender']] = encoder.fit_transform(X_train[['Gender']])\n",
    "X_test_encoded[['Gender']] = encoder.transform(X_test[['Gender']])\n",
    "\n",
    "# Label encode the target variable\n",
    "label_encoder = LabelEncoder()\n",
    "y_train_encoded = label_encoder.fit_transform(y_train)\n",
    "y_test_encoded = label_encoder.transform(y_test)"
   ]
  },
  {
   "cell_type": "code",
   "execution_count": 15,
   "id": "4acfa1f8-3dd1-41ae-b096-68b349c181b1",
   "metadata": {},
   "outputs": [
    {
     "name": "stdout",
     "output_type": "stream",
     "text": [
      "Accuracy Score: 99.10%\n",
      "\n",
      "Classification Report for XGBoost: \n",
      "                  precision    recall  f1-score   support\n",
      "\n",
      "          normal       1.00      0.99      0.99     13382\n",
      "severely stunted       0.99      0.99      0.99      4130\n",
      "         stunted       0.97      0.98      0.97      2790\n",
      "            tall       0.99      0.99      0.99      3898\n",
      "\n",
      "        accuracy                           0.99     24200\n",
      "       macro avg       0.99      0.99      0.99     24200\n",
      "    weighted avg       0.99      0.99      0.99     24200\n",
      "\n"
     ]
    }
   ],
   "source": [
    "#ImplementeXtreme gradient boosting\n",
    "xgbc_model = XGBClassifier(random_state=42)\n",
    "xgbc_model.fit(X_train_encoded, y_train_encoded)\n",
    "\n",
    "# Predict and evaluate the model\n",
    "y_pred_encoded = xgbc_model.predict(X_test_encoded)\n",
    "y_pred = label_encoder.inverse_transform(y_pred_encoded)\n",
    "\n",
    "acc_xgbc = accuracy_score(y_test, y_pred)\n",
    "print(f\"Accuracy Score: {acc_xgbc*100:.2f}%\\n\")\n",
    "\n",
    "# Classification Report\n",
    "print(\"Classification Report for XGBoost: \")\n",
    "print(classification_report(y_test, y_pred))\n"
   ]
  },
  {
   "cell_type": "code",
   "execution_count": 5,
   "id": "a78c6ecb-c889-4f88-b815-1191c3cc53bc",
   "metadata": {},
   "outputs": [
    {
     "name": "stdout",
     "output_type": "stream",
     "text": [
      "Cross-Validation Scores:  [0.99116736 0.98941116 0.99044421 0.99034091 0.99044372]\n",
      "Mean CV Accuracy: 99.04%\n",
      "Standard Deviation of CV Accuracy: 0.06%\n"
     ]
    }
   ],
   "source": [
    "#Cross validation for extreme gradient boosting\n",
    "cv_scores = cross_val_score(xgbc_model, X_train_encoded, y_train_encoded, cv=5)\n",
    "\n",
    "print(\"Cross-Validation Scores: \", cv_scores)\n",
    "print(f\"Mean CV Accuracy: {np.mean(cv_scores)*100:.2f}%\")\n",
    "print(f\"Standard Deviation of CV Accuracy: {np.std(cv_scores)*100:.2f}%\")\n"
   ]
  },
  {
   "cell_type": "code",
   "execution_count": 8,
   "id": "9fc754c7-32b7-45cb-b7c3-542fd48eaa5b",
   "metadata": {},
   "outputs": [
    {
     "name": "stdout",
     "output_type": "stream",
     "text": [
      "XGBoost Predictions: ['stunted' 'severely stunted' 'normal' 'tall']\n"
     ]
    }
   ],
   "source": [
    "#Test Extreme gradient boosting\n",
    "new_test_cases = pd.DataFrame({\n",
    "    'Age': [16] * 4,\n",
    "    'Gender': ['male'] * 4, #male\n",
    "    'Height': [75,30,77.5,90]\n",
    "})\n",
    "new_test_cases_encoded = new_test_cases.copy()\n",
    "new_test_cases_encoded[['Gender']] = encoder.transform(new_test_cases[['Gender']])\n",
    "new_test_cases_xgbc_pred_encoded = xgbc_model.predict(new_test_cases_encoded)\n",
    "new_test_cases_xgbc_pred = label_encoder.inverse_transform(new_test_cases_xgbc_pred_encoded)\n",
    "print(\"XGBoost Predictions:\", new_test_cases_xgbc_pred)\n"
   ]
  },
  {
   "cell_type": "code",
   "execution_count": 9,
   "id": "66d27372-84d7-4a63-ada7-e32d48fbd77a",
   "metadata": {},
   "outputs": [
    {
     "name": "stdout",
     "output_type": "stream",
     "text": [
      "Accuracy Score (SVM): 95.25%\n",
      "\n",
      "Classification Report for SVM: \n",
      "                  precision    recall  f1-score   support\n",
      "\n",
      "          normal       0.97      0.98      0.97     13382\n",
      "severely stunted       0.93      0.96      0.94      4130\n",
      "         stunted       0.87      0.81      0.84      2790\n",
      "            tall       0.98      0.96      0.97      3898\n",
      "\n",
      "        accuracy                           0.95     24200\n",
      "       macro avg       0.94      0.93      0.93     24200\n",
      "    weighted avg       0.95      0.95      0.95     24200\n",
      "\n"
     ]
    }
   ],
   "source": [
    "#Implement SVC\n",
    "from sklearn.svm import SVC\n",
    "# Initialize and train the SVM model\n",
    "svm_model = SVC(kernel='rbf', random_state=42)\n",
    "svm_model.fit(X_train_encoded, y_train_encoded)\n",
    "\n",
    "# Predict using the SVM model\n",
    "y_pred_svm_encoded = svm_model.predict(X_test_encoded)\n",
    "y_pred_svm = label_encoder.inverse_transform(y_pred_svm_encoded)\n",
    "\n",
    "# Evaluate the SVM model\n",
    "acc_svm = accuracy_score(y_test, y_pred_svm)\n",
    "print(f\"Accuracy Score (SVM): {acc_svm*100:.2f}%\\n\")\n",
    "\n",
    "# Classification Report for SVM\n",
    "print(\"Classification Report for SVM: \")\n",
    "print(classification_report(y_test, y_pred_svm))"
   ]
  },
  {
   "cell_type": "code",
   "execution_count": 10,
   "id": "67cc4eba-5447-4157-bcdd-16a32c2fda52",
   "metadata": {},
   "outputs": [
    {
     "name": "stdout",
     "output_type": "stream",
     "text": [
      "Cross-Validation Scores (SVM):  [0.95139463 0.95123967 0.95165289 0.95356405 0.94963583]\n",
      "Mean CV Accuracy (SVM): 95.15%\n",
      "Standard Deviation of CV Accuracy (SVM): 0.13%\n"
     ]
    }
   ],
   "source": [
    "#Cross validate SVM\n",
    "cv_scores_svm = cross_val_score(svm_model, X_train_encoded, y_train_encoded, cv=5)\n",
    "\n",
    "print(\"Cross-Validation Scores (SVM): \", cv_scores_svm)\n",
    "print(f\"Mean CV Accuracy (SVM): {np.mean(cv_scores_svm)*100:.2f}%\")\n",
    "print(f\"Standard Deviation of CV Accuracy (SVM): {np.std(cv_scores_svm)*100:.2f}%\")"
   ]
  },
  {
   "cell_type": "code",
   "execution_count": 11,
   "id": "1d415ed2-c815-4fc2-a0e6-58af3ccfb99e",
   "metadata": {},
   "outputs": [
    {
     "name": "stdout",
     "output_type": "stream",
     "text": [
      "SVM Predictions: ['normal' 'severely stunted' 'normal' 'tall']\n"
     ]
    }
   ],
   "source": [
    "#Test SVM\n",
    "new_test_cases_svm_pred_encoded = svm_model.predict(new_test_cases_encoded)\n",
    "new_test_cases_svm_pred = label_encoder.inverse_transform(new_test_cases_svm_pred_encoded)\n",
    "print(\"SVM Predictions:\", new_test_cases_svm_pred)\n"
   ]
  },
  {
   "cell_type": "code",
   "execution_count": 12,
   "id": "c2e95f12-f0f4-434c-b542-f184d4fa2bb1",
   "metadata": {},
   "outputs": [
    {
     "name": "stdout",
     "output_type": "stream",
     "text": [
      "Accuracy Score (KNN): 99.66%\n",
      "\n",
      "Classification Report for KNN: \n",
      "                  precision    recall  f1-score   support\n",
      "\n",
      "          normal       1.00      1.00      1.00     13382\n",
      "severely stunted       0.99      1.00      1.00      4130\n",
      "         stunted       0.99      0.99      0.99      2790\n",
      "            tall       1.00      1.00      1.00      3898\n",
      "\n",
      "        accuracy                           1.00     24200\n",
      "       macro avg       1.00      1.00      1.00     24200\n",
      "    weighted avg       1.00      1.00      1.00     24200\n",
      "\n"
     ]
    }
   ],
   "source": [
    "#Implement K-NN\n",
    "from sklearn.neighbors import KNeighborsClassifier\n",
    "\n",
    "# Initialize and train the KNN model\n",
    "knn_model = KNeighborsClassifier()\n",
    "knn_model.fit(X_train_encoded, y_train_encoded)\n",
    "\n",
    "# Predict using the KNN model\n",
    "y_pred_knn_encoded = knn_model.predict(X_test_encoded)\n",
    "y_pred_knn = label_encoder.inverse_transform(y_pred_knn_encoded)\n",
    "\n",
    "# Evaluate the KNN model\n",
    "acc_knn = accuracy_score(y_test, y_pred_knn)\n",
    "print(f\"Accuracy Score (KNN): {acc_knn*100:.2f}%\\n\")\n",
    "\n",
    "# Classification Report for KNN\n",
    "print(\"Classification Report for KNN: \")\n",
    "print(classification_report(y_test, y_pred_knn))"
   ]
  },
  {
   "cell_type": "code",
   "execution_count": 13,
   "id": "3bd74f86-3aed-4c3d-a638-040ca85c1d44",
   "metadata": {},
   "outputs": [
    {
     "name": "stdout",
     "output_type": "stream",
     "text": [
      "Cross-Validation Scores (KNN):  [0.99545455 0.99493802 0.99529959 0.99633264 0.99597087]\n",
      "Mean CV Accuracy (KNN): 99.56%\n",
      "Standard Deviation of CV Accuracy (KNN): 0.05%\n"
     ]
    }
   ],
   "source": [
    "#Cross validate K-NN\n",
    "cv_scores_knn = cross_val_score(knn_model, X_train_encoded, y_train_encoded, cv=5)\n",
    "\n",
    "print(\"Cross-Validation Scores (KNN): \", cv_scores_knn)\n",
    "print(f\"Mean CV Accuracy (KNN): {np.mean(cv_scores_knn)*100:.2f}%\")\n",
    "print(f\"Standard Deviation of CV Accuracy (KNN): {np.std(cv_scores_knn)*100:.2f}%\")\n"
   ]
  },
  {
   "cell_type": "code",
   "execution_count": 14,
   "id": "11666400-3aec-4745-884a-69ed0b94e477",
   "metadata": {},
   "outputs": [
    {
     "name": "stdout",
     "output_type": "stream",
     "text": [
      "KNN Predictions: ['stunted' 'severely stunted' 'normal' 'tall']\n"
     ]
    }
   ],
   "source": [
    "#Test K-NN\n",
    "new_test_cases_knn_pred_encoded = knn_model.predict(new_test_cases_encoded)\n",
    "new_test_cases_knn_pred = label_encoder.inverse_transform(new_test_cases_knn_pred_encoded)\n",
    "print(\"KNN Predictions:\", new_test_cases_knn_pred)"
   ]
  },
  {
   "cell_type": "code",
   "execution_count": null,
   "id": "2f9f9e33-cd30-4301-952b-4f28f2e63761",
   "metadata": {},
   "outputs": [],
   "source": []
  }
 ],
 "metadata": {
  "kernelspec": {
   "display_name": "Python 3 (ipykernel)",
   "language": "python",
   "name": "python3"
  },
  "language_info": {
   "codemirror_mode": {
    "name": "ipython",
    "version": 3
   },
   "file_extension": ".py",
   "mimetype": "text/x-python",
   "name": "python",
   "nbconvert_exporter": "python",
   "pygments_lexer": "ipython3",
   "version": "3.11.7"
  }
 },
 "nbformat": 4,
 "nbformat_minor": 5
}
